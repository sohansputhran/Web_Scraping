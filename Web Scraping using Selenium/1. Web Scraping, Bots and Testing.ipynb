{
 "cells": [
  {
   "cell_type": "markdown",
   "id": "painful-conditioning",
   "metadata": {},
   "source": [
    "### Selenium Tutorial 1\n",
    "Learning from YouTube video: https://www.youtube.com/watch?v=Xjv1sY630Uc"
   ]
  },
  {
   "cell_type": "code",
   "execution_count": null,
   "id": "bizarre-depression",
   "metadata": {},
   "outputs": [],
   "source": [
    "from selenium import webdriver"
   ]
  },
  {
   "cell_type": "code",
   "execution_count": 3,
   "id": "abroad-sponsorship",
   "metadata": {},
   "outputs": [],
   "source": [
    "PATH = 'D:\\Program Files (x86)\\chromedriver.exe'\n",
    "driver = webdriver.Chrome(PATH)"
   ]
  }
 ],
 "metadata": {
  "kernelspec": {
   "display_name": "Python 3",
   "language": "python",
   "name": "python3"
  },
  "language_info": {
   "codemirror_mode": {
    "name": "ipython",
    "version": 3
   },
   "file_extension": ".py",
   "mimetype": "text/x-python",
   "name": "python",
   "nbconvert_exporter": "python",
   "pygments_lexer": "ipython3",
   "version": "3.8.5"
  }
 },
 "nbformat": 4,
 "nbformat_minor": 5
}
